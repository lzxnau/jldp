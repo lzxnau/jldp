{
 "cells": [
  {
   "cell_type": "markdown",
   "id": "47880dbeb6ccc4df",
   "metadata": {
    "collapsed": false,
    "jupyter": {
     "outputs_hidden": false
    }
   },
   "source": [
    "# This is a Test"
   ]
  },
  {
   "cell_type": "code",
   "execution_count": 1,
   "id": "3cbd9847-7a6d-4092-86be-8b86151e3132",
   "metadata": {},
   "outputs": [
    {
     "ename": "TypeError",
     "evalue": "LRData.__init__() takes from 1 to 3 positional arguments but 7 were given",
     "output_type": "error",
     "traceback": [
      "\u001b[0;31m---------------------------------------------------------------------------\u001b[0m",
      "\u001b[0;31mTypeError\u001b[0m                                 Traceback (most recent call last)",
      "Cell \u001b[0;32mIn[1], line 3\u001b[0m\n\u001b[1;32m      1\u001b[0m \u001b[38;5;28;01mfrom\u001b[39;00m \u001b[38;5;21;01mjlpy\u001b[39;00m\u001b[38;5;21;01m.\u001b[39;00m\u001b[38;5;21;01mpytorch\u001b[39;00m\u001b[38;5;21;01m.\u001b[39;00m\u001b[38;5;21;01mbase\u001b[39;00m\u001b[38;5;21;01m.\u001b[39;00m\u001b[38;5;21;01mlinear_regression\u001b[39;00m \u001b[38;5;28;01mimport\u001b[39;00m base_impl \u001b[38;5;28;01mas\u001b[39;00m ba\n\u001b[0;32m----> 3\u001b[0m base \u001b[38;5;241m=\u001b[39m \u001b[43mba\u001b[49m\u001b[38;5;241;43m.\u001b[39;49m\u001b[43mBaseImpl\u001b[49m\u001b[43m(\u001b[49m\u001b[43m)\u001b[49m\n\u001b[1;32m      4\u001b[0m base\u001b[38;5;241m.\u001b[39mfit()\n\u001b[1;32m      5\u001b[0m base\u001b[38;5;241m.\u001b[39mplot()\n",
      "File \u001b[0;32m~/jldp/src/jlpy/pytorch/base/linear_regression/base_impl.py:257\u001b[0m, in \u001b[0;36mBaseImpl.__init__\u001b[0;34m(self, bsize, nepoch, gap, **kwargs)\u001b[0m\n\u001b[1;32m    254\u001b[0m b \u001b[38;5;241m=\u001b[39m kwargs\u001b[38;5;241m.\u001b[39mget(\u001b[38;5;124m\"\u001b[39m\u001b[38;5;124mb\u001b[39m\u001b[38;5;124m\"\u001b[39m) \u001b[38;5;28;01mif\u001b[39;00m kwargs\u001b[38;5;241m.\u001b[39mget(\u001b[38;5;124m\"\u001b[39m\u001b[38;5;124mb\u001b[39m\u001b[38;5;124m\"\u001b[39m) \u001b[38;5;28;01melse\u001b[39;00m \u001b[38;5;241m4.2\u001b[39m\n\u001b[1;32m    255\u001b[0m n \u001b[38;5;241m=\u001b[39m kwargs\u001b[38;5;241m.\u001b[39mget(\u001b[38;5;124m\"\u001b[39m\u001b[38;5;124mn\u001b[39m\u001b[38;5;124m\"\u001b[39m) \u001b[38;5;28;01mif\u001b[39;00m kwargs\u001b[38;5;241m.\u001b[39mget(\u001b[38;5;124m\"\u001b[39m\u001b[38;5;124mn\u001b[39m\u001b[38;5;124m\"\u001b[39m) \u001b[38;5;28;01melse\u001b[39;00m \u001b[38;5;241m0.01\u001b[39m\n\u001b[0;32m--> 257\u001b[0m data \u001b[38;5;241m=\u001b[39m \u001b[43mLRData\u001b[49m\u001b[43m(\u001b[49m\u001b[43mw1\u001b[49m\u001b[43m,\u001b[49m\u001b[43m \u001b[49m\u001b[43mw2\u001b[49m\u001b[43m,\u001b[49m\u001b[43m \u001b[49m\u001b[43mb\u001b[49m\u001b[43m,\u001b[49m\u001b[43m \u001b[49m\u001b[43mn\u001b[49m\u001b[43m,\u001b[49m\u001b[43m \u001b[49m\u001b[43mbsize\u001b[49m\u001b[43m,\u001b[49m\u001b[43m \u001b[49m\u001b[43mgap\u001b[49m\u001b[43m)\u001b[49m\n\u001b[1;32m    258\u001b[0m \u001b[38;5;28mself\u001b[39m\u001b[38;5;241m.\u001b[39mtdata \u001b[38;5;241m=\u001b[39m LRDataset(data)\n\u001b[1;32m    259\u001b[0m \u001b[38;5;28mself\u001b[39m\u001b[38;5;241m.\u001b[39mvdata \u001b[38;5;241m=\u001b[39m LRDataset(data, isval\u001b[38;5;241m=\u001b[39m\u001b[38;5;28;01mTrue\u001b[39;00m)\n",
      "\u001b[0;31mTypeError\u001b[0m: LRData.__init__() takes from 1 to 3 positional arguments but 7 were given"
     ]
    }
   ],
   "source": [
    "from jlpy.pytorch.base.linear_regression import base_impl as ba\n",
    "\n",
    "base = ba.BaseImpl()\n",
    "base.fit()\n",
    "base.plot()"
   ]
  },
  {
   "cell_type": "code",
   "execution_count": null,
   "id": "a6245cb0-7a3b-4660-aa8e-835d4611ba2d",
   "metadata": {},
   "outputs": [],
   "source": []
  }
 ],
 "metadata": {
  "kernelspec": {
   "display_name": "Python 3 (ipykernel)",
   "language": "python",
   "name": "python3"
  },
  "language_info": {
   "codemirror_mode": {
    "name": "ipython",
    "version": 3
   },
   "file_extension": ".py",
   "mimetype": "text/x-python",
   "name": "python",
   "nbconvert_exporter": "python",
   "pygments_lexer": "ipython3",
   "version": "3.11.7"
  }
 },
 "nbformat": 4,
 "nbformat_minor": 5
}
